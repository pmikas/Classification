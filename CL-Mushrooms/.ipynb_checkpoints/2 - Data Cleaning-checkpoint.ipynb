{
 "cells": [
  {
   "cell_type": "markdown",
   "metadata": {},
   "source": [
    "<h1 style=\"font-size:30px\">Data Cleaning</h1>\n",
    "<hr>\n",
    "\n",
    "1. Drop unwanted observations\n",
    "2. Fix structural erros\n",
    "3. Remove unwanted outliers\n",
    "4. Label missing categorical data\n",
    "5. Flag and fill missing numerical data"
   ]
  },
  {
   "cell_type": "markdown",
   "metadata": {},
   "source": [
    "<span style=\"font-size:18px\">**Import libraries**</span>"
   ]
  },
  {
   "cell_type": "code",
   "execution_count": 2,
   "metadata": {},
   "outputs": [],
   "source": [
    "# Numpy for numerical computing\n",
    "import numpy as np\n",
    "\n",
    "# Pandas for Dataframes\n",
    "import pandas as pd\n",
    "pd.set_option('display.max_columns',100)\n",
    "\n",
    "# Matplolib for visualization\n",
    "from matplotlib import pyplot as plt\n",
    "# display plots in the notebook\n",
    "%matplotlib inline\n",
    "\n",
    "# Seaborn for easier visualization\n",
    "import seaborn as sns"
   ]
  },
  {
   "cell_type": "markdown",
   "metadata": {},
   "source": [
    "<span style=\"font-size:18px\">**Load dataset**</span>"
   ]
  },
  {
   "cell_type": "code",
   "execution_count": 3,
   "metadata": {},
   "outputs": [],
   "source": [
    "df = pd.read_csv('mushrooms.csv')"
   ]
  },
  {
   "cell_type": "markdown",
   "metadata": {},
   "source": [
    "<span style=\"font-size:18px\">**1. Drop unwanted observations**</span><br>\n",
    "* Duplicate observations<br>\n",
    "* Irrelevant observations: observations that don't actually fit the **specific problem**"
   ]
  },
  {
   "cell_type": "code",
   "execution_count": 4,
   "metadata": {},
   "outputs": [
    {
     "data": {
      "text/plain": [
       "(8124, 23)"
      ]
     },
     "execution_count": 4,
     "metadata": {},
     "output_type": "execute_result"
    }
   ],
   "source": [
    "# Drop duplicates\n",
    "df.drop_duplicates().shape"
   ]
  },
  {
   "cell_type": "markdown",
   "metadata": {},
   "source": [
    "<span style=\"font-size:18px\">**2. Fix structural errors**</span>"
   ]
  },
  {
   "cell_type": "markdown",
   "metadata": {},
   "source": [
    "<span style=\"font-size:14px\">**2.1. Wannabe indicator variables**<br></span>\n",
    "Check variables that should actually be binary indicator variables.<br>\n",
    "* These variables should be either 0 or 1\n",
    "* Maybe they are saved under different logic\n",
    "* Fill missing values 'nan' with the value 0 to turn the feature into a true indicator variable"
   ]
  },
  {
   "cell_type": "code",
   "execution_count": null,
   "metadata": {},
   "outputs": [],
   "source": [
    "# Display unique values of the feature\n",
    "df.feature.unique()"
   ]
  },
  {
   "cell_type": "code",
   "execution_count": null,
   "metadata": {},
   "outputs": [],
   "source": [
    "# Missing feature value should be 0\n",
    "df.feature.fillna(0, inplace = True)\n",
    "print(df.feature.unique())"
   ]
  },
  {
   "cell_type": "markdown",
   "metadata": {},
   "source": [
    "<span style=\"font-size:14px\">**2.2. Typos, capitalization and misslabeled classes**<br></span>\n",
    "* Mostly a concern for **categorical features**<br>\n",
    "* Check for typos or inconsistent capitalization<br>\n",
    "* Check for classes that are labeled as separate classes when they should really be the same"
   ]
  },
  {
   "cell_type": "code",
   "execution_count": null,
   "metadata": {},
   "outputs": [],
   "source": [
    "# Plot class distribution for the 'categorical feature'\n",
    "sns.countplot(y = 'categorical_feature', data = df)\n",
    "plt.show()"
   ]
  },
  {
   "cell_type": "code",
   "execution_count": null,
   "metadata": {},
   "outputs": [],
   "source": [
    "# 'Categ' should be 'Categorical'\n",
    "df.categorical_feature.replace('Categ', 'Categorical', inplace = True)\n",
    "\n",
    "# 'categorical' should be 'Categorical'\n",
    "df.categorical_feature.replace('categorical', 'Categorical', inplace = True)"
   ]
  },
  {
   "cell_type": "markdown",
   "metadata": {},
   "source": [
    "<span style=\"font-size:18px\">**3. Remove unwanted outliers**</span><br>\n",
    "* Suspicious measurements that are unlikely to be real data<br>\n",
    "* Outliers that belong in a different population<br>\n",
    "* Outliers that belong to a different problem"
   ]
  },
  {
   "cell_type": "markdown",
   "metadata": {},
   "source": [
    "* Is there any long and skinny tail?\n",
    "* Is it a potential outlier?"
   ]
  },
  {
   "cell_type": "code",
   "execution_count": null,
   "metadata": {},
   "outputs": [],
   "source": [
    "# Violin plot of 'target' using the Seaborn library\n",
    "sns.violinplot(df.target)\n",
    "plt.show()\n",
    "\n",
    "# Violin plot of 'feature'\n",
    "sns.violinplot(df.feature)\n",
    "plt.show()"
   ]
  },
  {
   "cell_type": "markdown",
   "metadata": {},
   "source": [
    "* Check the smaller/largest 5 lot size just to confirm\n",
    "* Use a boolean mask to filter only wanted observations"
   ]
  },
  {
   "cell_type": "code",
   "execution_count": null,
   "metadata": {},
   "outputs": [],
   "source": [
    "# Sort the df.feature and display the top 5 samples\n",
    "df.feature.sort_values(ascending = False).head()\n",
    "\n",
    "# Sort the df.feature and display the low 5 samples\n",
    "df.feature.sort_values(ascending = False).tail()"
   ]
  },
  {
   "cell_type": "code",
   "execution_count": null,
   "metadata": {},
   "outputs": [],
   "source": [
    "# Remove feature outlier\n",
    "df = df[(df[['feature']] < 'size').all(axis = 1)]\n",
    "\n",
    "# Print length of df\n",
    "print(len(df))"
   ]
  },
  {
   "cell_type": "markdown",
   "metadata": {},
   "source": [
    "<span style=\"font-size:18px\">**4. Label missing categorical data**</span><br><br>\n",
    "Avoid:<br>\n",
    "* **Dropping** observations that have missing values<br>\n",
    "* **Imputing** the missing values based on values from other observations"
   ]
  },
  {
   "cell_type": "code",
   "execution_count": null,
   "metadata": {},
   "outputs": [],
   "source": [
    "# Display number of missing values by feature (categorical)\n",
    "df.select_dtypes(include = ['object']).isnull().sum()"
   ]
  },
  {
   "cell_type": "markdown",
   "metadata": {},
   "source": [
    "* Label missing data as 'Missing', adding a new class for the feature"
   ]
  },
  {
   "cell_type": "code",
   "execution_count": null,
   "metadata": {},
   "outputs": [],
   "source": [
    "# Fill missing categorical values\n",
    "for column in df.select_dtypes(include = ['object']):\n",
    "    df[column] = df[column].fillna('Missing')"
   ]
  },
  {
   "cell_type": "markdown",
   "metadata": {},
   "source": [
    "<span style=\"font-size:18px\">**5. Flag and fill missing numeric data**</span><br>\n",
    "* Best used for **cross-sectional** data. The cross-sectional data is data collected for many subjects at the same point in time\n",
    "* For time series, consider **interpolation**. The time series data is data collected for one subject throughout many points in time"
   ]
  },
  {
   "cell_type": "code",
   "execution_count": null,
   "metadata": {},
   "outputs": [],
   "source": [
    "# Display number of missing values by feature (numeric)\n",
    "df.select_dtypes(exclude = ['object']).isnull().sum()"
   ]
  },
  {
   "cell_type": "markdown",
   "metadata": {},
   "source": [
    "**Flag** the observation with an **indicator feature** of missingness:<br>\n",
    "* 0 is not missing<br>\n",
    "* 1 if missing"
   ]
  },
  {
   "cell_type": "code",
   "execution_count": null,
   "metadata": {},
   "outputs": [],
   "source": [
    "# Indicator variable for missing feature\n",
    "df['missing_feature'] = df.feature.isnull().astype(int)"
   ]
  },
  {
   "cell_type": "markdown",
   "metadata": {},
   "source": [
    "**Fill** in the original missing value with 0 just to meet Scikit-Learn's technical requeriment of no missing values"
   ]
  },
  {
   "cell_type": "code",
   "execution_count": null,
   "metadata": {},
   "outputs": [],
   "source": [
    "# Fill missing values in feature with 0\n",
    "df.feature.fillna(0, inplace = True)"
   ]
  },
  {
   "cell_type": "markdown",
   "metadata": {},
   "source": [
    "<span style=\"font-size:18px\">**6. Save the cleaned dataframe**</span><br>"
   ]
  },
  {
   "cell_type": "code",
   "execution_count": null,
   "metadata": {},
   "outputs": [],
   "source": [
    "# Save cleaned dataframe to new file\n",
    "df.to_csv('cleaned_df.csv', index = None)"
   ]
  }
 ],
 "metadata": {
  "kernelspec": {
   "display_name": "Python 3",
   "language": "python",
   "name": "python3"
  },
  "language_info": {
   "codemirror_mode": {
    "name": "ipython",
    "version": 3
   },
   "file_extension": ".py",
   "mimetype": "text/x-python",
   "name": "python",
   "nbconvert_exporter": "python",
   "pygments_lexer": "ipython3",
   "version": "3.6.5"
  }
 },
 "nbformat": 4,
 "nbformat_minor": 2
}
