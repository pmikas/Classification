{
 "cells": [
  {
   "cell_type": "markdown",
   "metadata": {},
   "source": [
    "<h1 style=\"font-size:30px\">Feature Engineering</h1>\n",
    "<hr>\n",
    "\n",
    "1. Domain knowledge\n",
    "2. Create interaction features\n",
    "3. Create indicator features\n",
    "4. Group sparse classes\n",
    "5. Encode dummy variables\n",
    "6. Remove unused or redundant features"
   ]
  },
  {
   "cell_type": "markdown",
   "metadata": {},
   "source": [
    "<span style=\"font-size:18px\">**Import libraries**</span>"
   ]
  },
  {
   "cell_type": "code",
   "execution_count": null,
   "metadata": {},
   "outputs": [],
   "source": [
    "# Numpy for numerical computing\n",
    "import numpy as np\n",
    "\n",
    "# Pandas for Dataframes\n",
    "import pandas as pd\n",
    "pd.set_option('display.max_columns',100)\n",
    "\n",
    "# Matplolib for visualization\n",
    "from matplotlib import pyplot as plt\n",
    "# display plots in the notebook\n",
    "%matplotlib inline\n",
    "\n",
    "# Seaborn for easier visualization\n",
    "import seaborn as sns"
   ]
  },
  {
   "cell_type": "markdown",
   "metadata": {},
   "source": [
    "<span style=\"font-size:18px\">**Load dataset**</span>"
   ]
  },
  {
   "cell_type": "code",
   "execution_count": null,
   "metadata": {},
   "outputs": [],
   "source": [
    "df = pd.read_csv('cleaned_df.csv')"
   ]
  },
  {
   "cell_type": "markdown",
   "metadata": {},
   "source": [
    "<span style=\"font-size:18px\">**1. Domain knowledge**</span><br>\n",
    "Engineer informative features by tapping our expertise about the domain\n",
    "* Try to think of specific information you might want to **isolate**\n",
    "* You have a lot of create freedom to think of ideas for new features"
   ]
  },
  {
   "cell_type": "markdown",
   "metadata": {},
   "source": [
    "<span style=\"font-size:18px\">**2. Create interaction features**</span><br>\n",
    "Interaction features are operations between two or more other features<br>\n",
    "* Must be products of two variables<br>\n",
    "* Can be **products**, **sums**, or **differences** between two features<br>\n",
    "* Do a quick sanity check after creating the feature"
   ]
  },
  {
   "cell_type": "markdown",
   "metadata": {},
   "source": [
    "<span style=\"font-size:18px\">**3. Create indicator features**</span><br>\n",
    "One side benefit from indicator variables is the ability to quickly check the **proportion** of our observations that meet the condition\n",
    "* Use boolean masks\n",
    "* Avoid originally missing observations that were flagged and filled"
   ]
  },
  {
   "cell_type": "code",
   "execution_count": null,
   "metadata": {},
   "outputs": [],
   "source": [
    "# Scatterplot of numeric_feature_1 vs numeric_feature_2, only for the target\n",
    "sns.lmplot(x = 'numeric_feature_1', \n",
    "           y = 'numeric_feature_2',\n",
    "           data = df[df.target = 'Target'], \n",
    "           fit_reg = False)\n",
    "plt.show()"
   ]
  },
  {
   "cell_type": "code",
   "execution_count": null,
   "metadata": {},
   "outputs": [],
   "source": [
    "# Create indicator features\n",
    "df['indicator_feature_1'] = (df.numeric_feature_1 > 0.5).astype(int)\n",
    "df['indicator_feature_2'] = (df.numeric_feature_1 <= 0.5).astype(int)"
   ]
  },
  {
   "cell_type": "markdown",
   "metadata": {},
   "source": [
    "<span style=\"font-size:18px\">**4. Group sparse classes**</span><br>\n",
    "Group same/similar classes in one class to reduce the number of sparse classes in categorical features\n",
    "* Each class should have a decent number of observations\n",
    "* The number of observations depends on the size of the dataset and the number of other features\n",
    "* As a guideline, it is recommended combining classes until each one has at leat around 50 observations"
   ]
  },
  {
   "cell_type": "code",
   "execution_count": null,
   "metadata": {},
   "outputs": [],
   "source": [
    "# Bar plot for categorical_feature\n",
    "sns.countplot(y = 'categorical_feature', data = df)\n",
    "plt.show()"
   ]
  },
  {
   "cell_type": "markdown",
   "metadata": {},
   "source": [
    "<span style=\"font-size:18px\">**5. Encode dummy variables**</span><br>\n",
    "Dummy variables are a set of binary (0 or 1) features that **each represent a single class** from a categorical feature\n",
    "* Create new dataframe with dummy variables for categorical features"
   ]
  },
  {
   "cell_type": "code",
   "execution_count": null,
   "metadata": {},
   "outputs": [],
   "source": [
    "# Create new dataframe with dummy features\n",
    "df = df.get_dummies(df, columns = ['category_one', 'category_two'])"
   ]
  },
  {
   "cell_type": "markdown",
   "metadata": {},
   "source": [
    "<span style=\"font-size:18px\">**6. Remove unused or redundant features**</span><br>\n",
    "- Unused features:<br>\n",
    "    - ID columns<br>\n",
    "    - Features that wouldn't be available at the time of prediction<br>\n",
    "    - Other text descriptions<br>\n",
    "- Redundant features: those that have been **replace by other features** that were added"
   ]
  },
  {
   "cell_type": "code",
   "execution_count": null,
   "metadata": {},
   "outputs": [],
   "source": [
    "# Drop feature from the dataset\n",
    "df = df.drop(['feature'], axis = 1)"
   ]
  },
  {
   "cell_type": "markdown",
   "metadata": {},
   "source": [
    "<span style=\"font-size:18px\">**7. Save the cleaned dataframe**</span><br>"
   ]
  },
  {
   "cell_type": "code",
   "execution_count": null,
   "metadata": {},
   "outputs": [],
   "source": [
    "# Save cleaned dataframe to new file\n",
    "df.to_csv('analytical_base_table.csv', index = None)"
   ]
  }
 ],
 "metadata": {
  "kernelspec": {
   "display_name": "Python 3",
   "language": "python",
   "name": "python3"
  },
  "language_info": {
   "codemirror_mode": {
    "name": "ipython",
    "version": 3
   },
   "file_extension": ".py",
   "mimetype": "text/x-python",
   "name": "python",
   "nbconvert_exporter": "python",
   "pygments_lexer": "ipython3",
   "version": "3.6.5"
  }
 },
 "nbformat": 4,
 "nbformat_minor": 2
}
